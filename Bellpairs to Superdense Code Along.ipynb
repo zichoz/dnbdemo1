{
  "cells": [
    {
      "cell_type": "code",
      "source": [
        "#Authentication\n",
        "from azure.quantum import Workspace\n",
        "workspace = Workspace (\n",
        "   resource_id = \"###Insert your workspace credentials here###\",\n",
        "   location = \"###Insert Location###\"\n",
        ")\n"
      ],
      "outputs": [],
      "execution_count": null,
      "metadata": {
        "jupyter": {
          "source_hidden": false,
          "outputs_hidden": false
        },
        "nteract": {
          "transient": {
            "deleting": false
          }
        }
      }
    },
    {
      "cell_type": "code",
      "source": [
        "#Imports\n",
        "from qiskit import QuantumCircuit\n",
        "from qiskit.visualization import plot_histogram\n",
        "from qiskit.tools.monitor import job_monitor\n",
        "from azure.quantum.qiskit import AzureQuantumProvider"
      ],
      "outputs": [],
      "execution_count": null,
      "metadata": {
        "jupyter": {
          "source_hidden": false,
          "outputs_hidden": false
        },
        "nteract": {
          "transient": {
            "deleting": false
          }
        }
      }
    },
    {
      "cell_type": "code",
      "source": [
        "#define the provider\n",
        "provider = AzureQuantumProvider(\n",
        "  resource_id=\"###insert workspace###\",\n",
        "  location=\"###insert location###\"\n",
        ")"
      ],
      "outputs": [],
      "execution_count": null,
      "metadata": {
        "jupyter": {
          "source_hidden": false,
          "outputs_hidden": false
        },
        "nteract": {
          "transient": {
            "deleting": false
          }
        }
      }
    },
    {
      "cell_type": "markdown",
      "source": [
        "First let's see which backends are available on Azure Quantum"
      ],
      "metadata": {
        "nteract": {
          "transient": {
            "deleting": false
          }
        }
      }
    },
    {
      "cell_type": "code",
      "source": [
        "print(\"This workspace's targets:\")\n",
        "for backend in provider.backends():\n",
        "    print(\"- \" + backend.name())"
      ],
      "outputs": [],
      "execution_count": null,
      "metadata": {
        "jupyter": {
          "source_hidden": false,
          "outputs_hidden": false
        },
        "nteract": {
          "transient": {
            "deleting": false
          }
        }
      }
    },
    {
      "cell_type": "code",
      "source": [
        "#Here we can check what backends are available on our workspace\n",
        "print([backend.name() for backend in provider.backends()])"
      ],
      "outputs": [],
      "execution_count": null,
      "metadata": {
        "jupyter": {
          "source_hidden": false,
          "outputs_hidden": false
        },
        "nteract": {
          "transient": {
            "deleting": false
          }
        }
      }
    },
    {
      "cell_type": "markdown",
      "source": [
        "Create the first bell pair $\\phi^+ = \\frac{1}{2}(\\ket{00}+\\ket{11})$"
      ],
      "metadata": {
        "nteract": {
          "transient": {
            "deleting": false
          }
        }
      }
    },
    {
      "cell_type": "code",
      "source": [
        "# Create a Quantum Circuit with 2 qubits initialized |00> and 2 classical bits to store the results\n",
        "circuit = QuantumCircuit(2, 2)\n",
        "circuit.name = \"My first entangled pair\"\n",
        "\n",
        "# Print out the circuit\n",
        "circuit.draw()"
      ],
      "outputs": [],
      "execution_count": null,
      "metadata": {
        "jupyter": {
          "source_hidden": false,
          "outputs_hidden": false
        },
        "nteract": {
          "transient": {
            "deleting": false
          }
        }
      }
    },
    {
      "cell_type": "code",
      "source": [
        "#Apply the Hadamard Gate to the first Qubit\n",
        "\n",
        "circuit.h(0)\n",
        "\n",
        "# Print out the circuit\n",
        "circuit.draw()"
      ],
      "outputs": [],
      "execution_count": null,
      "metadata": {
        "jupyter": {
          "source_hidden": false,
          "outputs_hidden": false
        },
        "nteract": {
          "transient": {
            "deleting": false
          }
        }
      }
    },
    {
      "cell_type": "code",
      "source": [
        "#Apply the CNOT gate to the qubit 1 and 2\n",
        "\n",
        "circuit.cx(0,1)\n",
        "\n",
        "# Print out the circuit\n",
        "circuit.draw()"
      ],
      "outputs": [],
      "execution_count": null,
      "metadata": {
        "jupyter": {
          "source_hidden": false,
          "outputs_hidden": false
        },
        "nteract": {
          "transient": {
            "deleting": false
          }
        }
      }
    },
    {
      "cell_type": "code",
      "source": [
        "#Now we want to measure our result\n",
        "\n",
        "circuit.measure([0,1], [0,1])\n",
        "\n",
        "#Note the measurement is in the computational basis {|0>, |1>}\n",
        "# Print out the circuit\n",
        "circuit.draw()"
      ],
      "outputs": [],
      "execution_count": null,
      "metadata": {
        "jupyter": {
          "source_hidden": false,
          "outputs_hidden": false
        },
        "nteract": {
          "transient": {
            "deleting": false
          }
        }
      }
    },
    {
      "cell_type": "code",
      "source": [
        "circuit = QuantumCircuit(2, 2)\n",
        "circuit.name = \"My first entangled pair\"\n",
        "\n",
        "circuit.h(0)\n",
        "circuit.cx(0,1)\n",
        "\n",
        "circuit.measure([0,1], [0,1])\n",
        "\n",
        "# Print out the circuit\n",
        "circuit.draw()"
      ],
      "outputs": [],
      "execution_count": null,
      "metadata": {
        "jupyter": {
          "source_hidden": false,
          "outputs_hidden": false
        },
        "nteract": {
          "transient": {
            "deleting": false
          }
        }
      }
    },
    {
      "cell_type": "code",
      "source": [
        "#define the backend to run the circuit\n",
        "simulator_backend = provider.get_backend(\"ionq.simulator\") #here we set as default the IonQ simulator"
      ],
      "outputs": [],
      "execution_count": null,
      "metadata": {
        "jupyter": {
          "source_hidden": false,
          "outputs_hidden": false
        },
        "nteract": {
          "transient": {
            "deleting": false
          }
        }
      }
    },
    {
      "cell_type": "code",
      "source": [
        "#Want to change backend? Uncomment the next line. Note: It might take some time if you change backend\n",
        "#simulator_backend = provider.get_backend(\"quantinuum.sim.h1-1e\")"
      ],
      "outputs": [],
      "execution_count": null,
      "metadata": {
        "jupyter": {
          "source_hidden": false,
          "outputs_hidden": false
        },
        "nteract": {
          "transient": {
            "deleting": false
          }
        }
      }
    },
    {
      "cell_type": "code",
      "source": [
        "#create the job to send to Azure\n",
        "job = simulator_backend.run(circuit, shots=100)\n",
        "job_id = job.id()\n",
        "print(\"Job id\", job_id)"
      ],
      "outputs": [],
      "execution_count": null,
      "metadata": {
        "jupyter": {
          "source_hidden": false,
          "outputs_hidden": false
        },
        "nteract": {
          "transient": {
            "deleting": false
          }
        }
      }
    },
    {
      "cell_type": "code",
      "source": [
        "result = job.result()\n",
        "print(result)"
      ],
      "outputs": [],
      "execution_count": null,
      "metadata": {
        "jupyter": {
          "source_hidden": false,
          "outputs_hidden": false
        },
        "nteract": {
          "transient": {
            "deleting": false
          }
        }
      }
    },
    {
      "cell_type": "code",
      "source": [
        "counts = {format(n, \"02b\"): 0 for n in range(4)}\n",
        "counts.update(result.get_counts(circuit))\n",
        "print(counts)\n",
        "plot_histogram(counts)"
      ],
      "outputs": [],
      "execution_count": null,
      "metadata": {
        "jupyter": {
          "source_hidden": false,
          "outputs_hidden": false
        },
        "nteract": {
          "transient": {
            "deleting": false
          }
        }
      }
    },
    {
      "cell_type": "markdown",
      "source": [
        "Let's now create the other bell pairs \n",
        "$\\\\\\phi^- = \\frac{1}{2}(\\ket{00}-\\ket{11})$\n",
        "$\\\\\\psi^+ = \\frac{1}{2}(\\ket{01}+\\ket{10})$\n",
        "$\\\\\\psi^- = \\frac{1}{2}(\\ket{01}-\\ket{10})$\n",
        "\n"
      ],
      "metadata": {
        "nteract": {
          "transient": {
            "deleting": false
          }
        }
      }
    },
    {
      "cell_type": "code",
      "source": [
        "#phi - \n",
        "circuit = QuantumCircuit(2, 2)\n",
        "circuit.name = \"phi_minus\"\n",
        "\n",
        "###Insert the gates here###\n",
        "\n",
        "circuit.measure([0,1], [0,1])\n",
        "\n",
        "# Print out the circuit\n",
        "circuit.draw()"
      ],
      "outputs": [],
      "execution_count": null,
      "metadata": {
        "jupyter": {
          "source_hidden": false,
          "outputs_hidden": false
        },
        "nteract": {
          "transient": {
            "deleting": false
          }
        }
      }
    },
    {
      "cell_type": "code",
      "source": [
        "job = simulator_backend.run(circuit, shots=100)\n",
        "result = job.result()\n",
        "counts = {format(n, \"02b\"): 0 for n in range(4)}\n",
        "counts.update(result.get_counts(circuit))\n",
        "print(counts)\n",
        "plot_histogram(counts)"
      ],
      "outputs": [],
      "execution_count": null,
      "metadata": {
        "jupyter": {
          "source_hidden": false,
          "outputs_hidden": false
        },
        "nteract": {
          "transient": {
            "deleting": false
          }
        }
      }
    },
    {
      "cell_type": "code",
      "source": [
        "#psi + \n",
        "circuit = QuantumCircuit(2, 2)\n",
        "circuit.name = \"phi_minus\"\n",
        "\n",
        "###Insert the gates here###\n",
        "\n",
        "circuit.measure([0,1], [0,1])\n",
        "\n",
        "# Print out the circuit\n",
        "circuit.draw()"
      ],
      "outputs": [],
      "execution_count": null,
      "metadata": {
        "jupyter": {
          "source_hidden": false,
          "outputs_hidden": false
        },
        "nteract": {
          "transient": {
            "deleting": false
          }
        }
      }
    },
    {
      "cell_type": "code",
      "source": [
        "job = simulator_backend.run(circuit, shots=100)\n",
        "result = job.result()\n",
        "counts = {format(n, \"02b\"): 0 for n in range(4)}\n",
        "counts.update(result.get_counts(circuit))\n",
        "print(counts)\n",
        "plot_histogram(counts)\n"
      ],
      "outputs": [],
      "execution_count": null,
      "metadata": {
        "jupyter": {
          "source_hidden": false,
          "outputs_hidden": false
        },
        "nteract": {
          "transient": {
            "deleting": false
          }
        }
      }
    },
    {
      "cell_type": "code",
      "source": [
        "#psi - \n",
        "circuit = QuantumCircuit(2, 2)\n",
        "circuit.name = \"phi_minus\"\n",
        "\n",
        "###Insert the gates here###\n",
        "\n",
        "circuit.measure([0,1], [0,1])\n",
        "\n",
        "# Print out the circuit\n",
        "circuit.draw()"
      ],
      "outputs": [],
      "execution_count": null,
      "metadata": {
        "jupyter": {
          "source_hidden": false,
          "outputs_hidden": false
        },
        "nteract": {
          "transient": {
            "deleting": false
          }
        }
      }
    },
    {
      "cell_type": "code",
      "source": [
        "job = simulator_backend.run(circuit, shots=100)\n",
        "result = job.result()\n",
        "counts = {format(n, \"02b\"): 0 for n in range(4)}\n",
        "counts.update(result.get_counts(circuit))\n",
        "print(counts)\n",
        "plot_histogram(counts)"
      ],
      "outputs": [],
      "execution_count": null,
      "metadata": {
        "jupyter": {
          "source_hidden": false,
          "outputs_hidden": false
        },
        "nteract": {
          "transient": {
            "deleting": false
          }
        }
      }
    },
    {
      "cell_type": "code",
      "source": [
        "###Select a qpu backend provider###\n",
        "qpu_backend= provider.get_backend(\"ionq.qpu\") "
      ],
      "outputs": [],
      "execution_count": null,
      "metadata": {
        "jupyter": {
          "source_hidden": false,
          "outputs_hidden": false
        },
        "nteract": {
          "transient": {
            "deleting": false
          }
        }
      }
    },
    {
      "cell_type": "markdown",
      "source": [
        "Optional, create a script that takes in input the bell pair we want to build and create the circuit"
      ],
      "metadata": {
        "nteract": {
          "transient": {
            "deleting": false
          }
        }
      }
    },
    {
      "cell_type": "code",
      "source": [
        "#Run on actual QPU\n",
        "# Submit the circuit to run on Azure Quantum\n",
        "qpu_job = qpu_backend.run(circuit, shots=1024)\n",
        "job_id = qpu_job.id()\n",
        "print(\"Job id\", job_id)\n",
        "\n",
        "# Monitor job progress and wait until complete:\n",
        "job_monitor(qpu_job)\n",
        "\n",
        "# Get the job results (this method also waits for the Job to complete):\n",
        "result = qpu_job.result()\n",
        "print(result)\n",
        "counts = {format(n, \"02b\"): 0 for n in range(4)}\n",
        "counts.update(result.get_counts(circuit))\n",
        "print(counts)\n",
        "plot_histogram(counts)"
      ],
      "outputs": [],
      "execution_count": null,
      "metadata": {
        "jupyter": {
          "source_hidden": false,
          "outputs_hidden": false
        },
        "nteract": {
          "transient": {
            "deleting": false
          }
        }
      }
    },
    {
      "cell_type": "markdown",
      "source": [
        "Use Microsoft Resource Estimator"
      ],
      "metadata": {
        "nteract": {
          "transient": {
            "deleting": false
          }
        }
      }
    },
    {
      "cell_type": "code",
      "source": [
        "from azure.quantum.qiskit import AzureQuantumProvider\n",
        "from qiskit import QuantumCircuit, transpile\n",
        "from qiskit.tools.monitor import job_monitor"
      ],
      "outputs": [],
      "execution_count": null,
      "metadata": {
        "jupyter": {
          "source_hidden": false,
          "outputs_hidden": false
        },
        "nteract": {
          "transient": {
            "deleting": false
          }
        }
      }
    },
    {
      "cell_type": "code",
      "source": [
        "from azure.quantum import Workspace\n",
        "from azure.quantum.qiskit import AzureQuantumProvider\n",
        "\n",
        "workspace = Workspace(\n",
        "            resource_id = \"/subscriptions/799529d3-173c-4965-a9c5-b2d64bf4ab95/resourceGroups/NT_Prototyping/providers/Microsoft.Quantum/Workspaces/QuantumDemo\",\n",
        "            location = \"westeurope\")\n",
        "\n",
        "\n",
        "provider = AzureQuantumProvider(workspace)"
      ],
      "outputs": [],
      "execution_count": null,
      "metadata": {
        "jupyter": {
          "source_hidden": false,
          "outputs_hidden": false
        },
        "nteract": {
          "transient": {
            "deleting": false
          }
        }
      }
    },
    {
      "cell_type": "code",
      "source": [
        "backend = provider.get_backend('microsoft.estimator')"
      ],
      "outputs": [],
      "execution_count": null,
      "metadata": {
        "jupyter": {
          "source_hidden": false,
          "outputs_hidden": false
        },
        "nteract": {
          "transient": {
            "deleting": false
          }
        }
      }
    },
    {
      "cell_type": "code",
      "source": [
        "def create_algorithm(circ, backend):\n",
        "    circuit = circ\n",
        "\n",
        "    # One could further reduce the resource estimates by increasing the optimization_level,\n",
        "    # however, this will also increase the runtime to construct the algorithm.  Note, that\n",
        "    # it does not affect the runtime for resource estimation.\n",
        "    print(f\"[INFO] Decompose circuit into intrinsic quantum operations\")\n",
        "\n",
        "    # retrieve basis gates from backend\n",
        "    basis_gates = backend.configuration().basis_gates\n",
        "    circuit = transpile(circuit, basis_gates=basis_gates, optimization_level=0)\n",
        "\n",
        "    # print some statistics\n",
        "    print(f\"[INFO]   qubit count: {circuit.num_qubits}\")\n",
        "    print(\"[INFO]   gate counts\")\n",
        "    for gate, count in circuit.count_ops().items():\n",
        "        print(f\"[INFO]   - {gate}: {count}\")\n",
        "\n",
        "    return circuit    "
      ],
      "outputs": [],
      "execution_count": null,
      "metadata": {
        "jupyter": {
          "source_hidden": false,
          "outputs_hidden": false
        },
        "nteract": {
          "transient": {
            "deleting": false
          }
        }
      }
    },
    {
      "cell_type": "code",
      "source": [
        "circ = create_algorithm(circuit, backend)\n"
      ],
      "outputs": [],
      "execution_count": null,
      "metadata": {
        "jupyter": {
          "source_hidden": false,
          "outputs_hidden": false
        },
        "nteract": {
          "transient": {
            "deleting": false
          }
        }
      }
    },
    {
      "cell_type": "code",
      "source": [
        "job = backend.run(circ)\n",
        "job_monitor(job)\n",
        "result = job.result()"
      ],
      "outputs": [],
      "execution_count": null,
      "metadata": {
        "jupyter": {
          "source_hidden": false,
          "outputs_hidden": false
        },
        "nteract": {
          "transient": {
            "deleting": false
          }
        }
      }
    },
    {
      "cell_type": "code",
      "source": [
        "result"
      ],
      "outputs": [],
      "execution_count": null,
      "metadata": {
        "jupyter": {
          "source_hidden": false,
          "outputs_hidden": false
        },
        "nteract": {
          "transient": {
            "deleting": false
          }
        }
      }
    },
    {
      "cell_type": "code",
      "source": [
        "result.diagram.space"
      ],
      "outputs": [],
      "execution_count": null,
      "metadata": {
        "jupyter": {
          "source_hidden": false,
          "outputs_hidden": false
        },
        "nteract": {
          "transient": {
            "deleting": false
          }
        }
      }
    },
    {
      "cell_type": "markdown",
      "source": [
        "Time"
      ],
      "metadata": {
        "nteract": {
          "transient": {
            "deleting": false
          }
        }
      }
    },
    {
      "cell_type": "code",
      "source": [
        "result.summary"
      ],
      "outputs": [],
      "execution_count": null,
      "metadata": {
        "jupyter": {
          "source_hidden": false,
          "outputs_hidden": false
        },
        "nteract": {
          "transient": {
            "deleting": false
          }
        }
      }
    },
    {
      "cell_type": "code",
      "source": [
        "#Working on changing the parameters\n",
        "job = backend.run(circ,\n",
        "    qubitParams={\n",
        "        \"name\": \"qubit_maj_ns_e6\"\n",
        "    },\n",
        "    qecScheme={\n",
        "        \"name\": \"floquet_code\"\n",
        "    })\n",
        "job_monitor(job)\n",
        "result_maj_floquet = job.result()\n",
        "result_maj_floquet"
      ],
      "outputs": [],
      "execution_count": null,
      "metadata": {
        "jupyter": {
          "source_hidden": false,
          "outputs_hidden": false
        },
        "nteract": {
          "transient": {
            "deleting": false
          }
        }
      }
    },
    {
      "cell_type": "markdown",
      "source": [
        "Using bell pairs to create superdense coding"
      ],
      "metadata": {
        "nteract": {
          "transient": {
            "deleting": false
          }
        }
      }
    },
    {
      "cell_type": "code",
      "source": [
        "def create_bell_pair():\n",
        "    \"\"\"\n",
        "    Returns:\n",
        "        QuantumCircuit: Circuit that produces a Bell pair\n",
        "    \"\"\"\n",
        "    qc = QuantumCircuit(2)\n",
        "    qc.h(1)\n",
        "    qc.cx(1, 0)\n",
        "    return qc"
      ],
      "outputs": [],
      "execution_count": null,
      "metadata": {
        "jupyter": {
          "source_hidden": false,
          "outputs_hidden": false
        },
        "nteract": {
          "transient": {
            "deleting": false
          }
        }
      }
    },
    {
      "cell_type": "code",
      "source": [
        "def encode_message(qc, qubit, msg):\n",
        "    \"\"\"Encodes a two-bit message on qc using the superdense coding protocol\n",
        "    Args:\n",
        "        qc (QuantumCircuit): Circuit to encode message on\n",
        "        qubit (int): Which qubit to add the gate to\n",
        "        msg (str): Two-bit message to send\n",
        "    Returns:\n",
        "        QuantumCircuit: Circuit that, when decoded, will produce msg\n",
        "    Raises:\n",
        "        ValueError if msg is wrong length or contains invalid characters\n",
        "    \"\"\"\n",
        "    if len(msg) != 2 or not set(msg).issubset({\"0\",\"1\"}):\n",
        "        raise ValueError(f\"message '{msg}' is invalid\")\n",
        "    if msg[1] == \"1\":\n",
        "        qc.x(qubit)\n",
        "    if msg[0] == \"1\":\n",
        "        qc.z(qubit)\n",
        "    return qc"
      ],
      "outputs": [],
      "execution_count": null,
      "metadata": {
        "jupyter": {
          "source_hidden": false,
          "outputs_hidden": false
        },
        "nteract": {
          "transient": {
            "deleting": false
          }
        }
      }
    },
    {
      "cell_type": "code",
      "source": [
        "def decode_message(qc):\n",
        "    qc.cx(1, 0)\n",
        "    qc.h(1)\n",
        "    return qc"
      ],
      "outputs": [],
      "execution_count": null,
      "metadata": {
        "jupyter": {
          "source_hidden": false,
          "outputs_hidden": false
        },
        "nteract": {
          "transient": {
            "deleting": false
          }
        }
      }
    },
    {
      "cell_type": "code",
      "source": [
        "# Charlie creates the entangled pair between Alice and Bob\n",
        "qc = create_bell_pair()\n",
        "\n",
        "# We'll add a barrier for visual separation\n",
        "qc.barrier()\n",
        "\n",
        "# At this point, qubit 0 goes to Alice and qubit 1 goes to Bob\n",
        "\n",
        "# Next, Alice encodes her message onto qubit 1. In this case,\n",
        "# we want to send the message '10'. You can try changing this\n",
        "# value and see how it affects the circuit\n",
        "message = '10'\n",
        "qc = encode_message(qc, 1, message)\n",
        "qc.barrier()\n",
        "# Alice then sends her qubit to Bob.\n",
        "\n",
        "# After recieving qubit 0, Bob applies the recovery protocol:\n",
        "qc = decode_message(qc)\n",
        "\n",
        "# Finally, Bob measures his qubits to read Alice's message\n",
        "qc.measure_all()\n",
        "\n",
        "# Draw our output\n",
        "qc.name = \"SuperdenseCoding\"\n",
        "qc.draw()"
      ],
      "outputs": [],
      "execution_count": null,
      "metadata": {
        "jupyter": {
          "source_hidden": false,
          "outputs_hidden": false
        },
        "nteract": {
          "transient": {
            "deleting": false
          }
        }
      }
    },
    {
      "cell_type": "code",
      "source": [
        "j = simulator_backend.run(qc, shots=200)\n",
        "j_id = j.id()\n",
        "print(\"Job id\", j_id)\n",
        "result = j.result()\n",
        "counts = {format(n, \"02b\"): 0 for n in range(4)}\n",
        "counts.update(result.get_counts(qc))\n",
        "print(counts)\n",
        "plot_histogram(counts)\n"
      ],
      "outputs": [],
      "execution_count": null,
      "metadata": {
        "jupyter": {
          "source_hidden": false,
          "outputs_hidden": false
        },
        "nteract": {
          "transient": {
            "deleting": false
          }
        }
      }
    },
    {
      "cell_type": "code",
      "source": [
        "#Make it a function\n",
        "def superdensecoding(msg : str):\n",
        "    qc = create_bell_pair()\n",
        "    qc.barrier()\n",
        "    message = msg\n",
        "    qc = encode_message(qc, 1, message)\n",
        "    qc.barrier()\n",
        "    qc = decode_message(qc)\n",
        "    qc.measure_all()\n",
        "    qc.draw()    \n",
        "    j = simulator_backend.run(qc, shots=200)\n",
        "    result = j.result()\n",
        "    counts = {format(n, \"02b\"): 0 for n in range(4)}\n",
        "    counts.update(result.get_counts(qc))\n",
        "    return(counts)"
      ],
      "outputs": [],
      "execution_count": null,
      "metadata": {
        "jupyter": {
          "source_hidden": false,
          "outputs_hidden": false
        },
        "nteract": {
          "transient": {
            "deleting": false
          }
        }
      }
    },
    {
      "cell_type": "code",
      "source": [
        "msg = '11'\n",
        "print(superdensecoding(msg))\n",
        "plot_histogram(superdensecoding(msg))"
      ],
      "outputs": [],
      "execution_count": null,
      "metadata": {
        "jupyter": {
          "source_hidden": false,
          "outputs_hidden": false
        },
        "nteract": {
          "transient": {
            "deleting": false
          }
        }
      }
    },
    {
      "cell_type": "code",
      "source": [
        "#let's estimate the resources needed to run this application\n",
        "sdcirc = transpile(qc, basis_gates=backend.configuration().basis_gates, optimization_level=0)"
      ],
      "outputs": [],
      "execution_count": null,
      "metadata": {
        "jupyter": {
          "source_hidden": false,
          "outputs_hidden": false
        },
        "nteract": {
          "transient": {
            "deleting": false
          }
        }
      }
    },
    {
      "cell_type": "code",
      "source": [
        "job = backend.run(sdcirc)\n",
        "job_monitor(job)\n",
        "result = job.result()\n",
        "result"
      ],
      "outputs": [],
      "execution_count": null,
      "metadata": {
        "jupyter": {
          "source_hidden": false,
          "outputs_hidden": false
        },
        "nteract": {
          "transient": {
            "deleting": false
          }
        }
      }
    }
  ],
  "metadata": {
    "language_info": {
      "name": "python",
      "version": "3.9.18",
      "mimetype": "text/x-python",
      "codemirror_mode": {
        "name": "ipython",
        "version": 3
      },
      "pygments_lexer": "ipython3",
      "nbconvert_exporter": "python",
      "file_extension": ".py"
    },
    "kernelspec": {
      "name": "python3",
      "language": "python",
      "display_name": "Python 3 (ipykernel)"
    },
    "kernel_info": {
      "name": "python3"
    },
    "nteract": {
      "version": "nteract-front-end@1.0.0"
    }
  },
  "nbformat": 4,
  "nbformat_minor": 0
}